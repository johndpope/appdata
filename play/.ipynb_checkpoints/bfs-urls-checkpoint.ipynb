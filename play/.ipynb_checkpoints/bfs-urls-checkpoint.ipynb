{
 "cells": [
  {
   "cell_type": "code",
   "execution_count": 1,
   "metadata": {},
   "outputs": [],
   "source": [
    "import time\n",
    "from selenium import webdriver\n",
    "from pprint import pprint\n",
    "import concurrent\n",
    "import json\n",
    "import pandas as pd\n",
    "import random"
   ]
  },
  {
   "cell_type": "code",
   "execution_count": 2,
   "metadata": {},
   "outputs": [],
   "source": [
    "from selenium.webdriver.chrome.options import Options\n",
    "chrome_options = Options()\n",
    "chrome_options.add_argument(\"--disable-extensions\")\n",
    "# we dont need to load images\n",
    "chrome_prefs = {\n",
    "      'profile.managed_default_content_settings.images': 2,\n",
    "    }\n",
    "chrome_options.add_experimental_option('prefs', chrome_prefs)\n",
    "def get_driver():\n",
    "    return webdriver.Chrome(options=chrome_options)"
   ]
  },
  {
   "cell_type": "code",
   "execution_count": 3,
   "metadata": {},
   "outputs": [
    {
     "name": "stdout",
     "output_type": "stream",
     "text": [
      "there are 813512 known app ids\n"
     ]
    }
   ],
   "source": [
    "KNOWN_IDS = {}\n",
    "with open('app_id.txt', encoding='utf-8') as f:\n",
    "    for l in f.readlines():\n",
    "        try:\n",
    "            j = json.loads(l)\n",
    "            for appid in j:\n",
    "                KNOWN_IDS[appid] =j[appid]\n",
    "        except:\n",
    "            raise\n",
    "print(f'there are {len(KNOWN_IDS)} known app ids')"
   ]
  },
  {
   "cell_type": "code",
   "execution_count": 4,
   "metadata": {},
   "outputs": [
    {
     "name": "stdout",
     "output_type": "stream",
     "text": [
      "there are 29086 searched apps\n"
     ]
    }
   ],
   "source": [
    "SEARCHED_APPS = set()\n",
    "with open('searched_appnames.txt', encoding='utf-8') as f:\n",
    "    for l in f.readlines():\n",
    "        name = l.strip()\n",
    "        SEARCHED_APPS.add(name)\n",
    "print(f'there are {len(SEARCHED_APPS)} searched apps')"
   ]
  },
  {
   "cell_type": "code",
   "execution_count": 5,
   "metadata": {},
   "outputs": [
    {
     "name": "stdout",
     "output_type": "stream",
     "text": [
      "there are 764659 apps in the queue, first 10 items are\n"
     ]
    },
    {
     "data": {
      "text/plain": [
       "['One Direction New Full Offline',\n",
       " 'Ice Cream Wallpapers - with Free editor',\n",
       " 'Unity College',\n",
       " 'MsarTaxi: easy cab rides in Sakakah, Al-Jawf',\n",
       " 'Quran player offline - القرآن بدون أنترنيت',\n",
       " 'TaxiPoint',\n",
       " 'Jus Diet (Manfaat + Resep)',\n",
       " 'Russian Camera & Voice Translator',\n",
       " '🎸 Kunci Gitar Lengkap Lagu Indonesia Offline 2019',\n",
       " 'Asoebi & Ankara Styles']"
      ]
     },
     "execution_count": 5,
     "metadata": {},
     "output_type": "execute_result"
    }
   ],
   "source": [
    "QUEUE = []\n",
    "for appid in KNOWN_IDS:\n",
    "    name = KNOWN_IDS[appid]\n",
    "    if name not in SEARCHED_APPS:\n",
    "        QUEUE.append(name)\n",
    "random.shuffle(QUEUE)\n",
    "print(f'there are {len(QUEUE)} apps in the queue, first 10 items are')\n",
    "QUEUE[:10]"
   ]
  },
  {
   "cell_type": "code",
   "execution_count": 6,
   "metadata": {},
   "outputs": [],
   "source": [
    "def scrolltobottom(driver):\n",
    "    driver.execute_script(\"window.scrollTo(0, document.body.scrollHeight)\")\n",
    "def scrolltotop(driver):\n",
    "    driver.execute_script(\"window.scrollTo(0, 0)\")"
   ]
  },
  {
   "cell_type": "code",
   "execution_count": 7,
   "metadata": {},
   "outputs": [],
   "source": [
    "def appendmsg(msg, filename):\n",
    "    with open(filename, 'ab') as f:\n",
    "        f.write(msg.encode('utf-8'))\n",
    "        f.write('\\n'.encode('utf-8'))\n",
    "        \n",
    "BUFSIZ = 1\n",
    "BUFFER = []\n",
    "def logid(name, appid):\n",
    "    BUFFER.append((appid, name))\n",
    "    if len(BUFFER) > BUFSIZ:\n",
    "        for i in range(BUFSIZ):\n",
    "            appid, name = BUFFER.pop(0)\n",
    "            item = {appid: name}\n",
    "            appendmsg(json.dumps(item, ensure_ascii=False), 'app_id.txt')"
   ]
  },
  {
   "cell_type": "code",
   "execution_count": 8,
   "metadata": {},
   "outputs": [],
   "source": [
    "BASE_SEARCH_URL = 'https://play.google.com/store/search?q={}&c=apps'\n",
    "SCROLL_ATTEMPT_COUNT = 15\n",
    "WAIT_TIME_BETWEEN_SCROLL = 1\n",
    "\n",
    "def task(driver):\n",
    "    \n",
    "    i = 0\n",
    "    while len(QUEUE) != 0:\n",
    "        i += 1\n",
    "        if i % 100 == 0:\n",
    "            random.shuffle(QUEUE)\n",
    "            \n",
    "        keyword = QUEUE.pop(0)\n",
    "        driver.get(BASE_SEARCH_URL.format(keyword))\n",
    "\n",
    "        # scroll down repeatedly to laod\n",
    "        for i in range(SCROLL_ATTEMPT_COUNT):\n",
    "            time.sleep(WAIT_TIME_BETWEEN_SCROLL)\n",
    "            scrolltotop(driver)\n",
    "            scrolltobottom(driver)\n",
    "            try:\n",
    "                driver.find_element_by_id('show-more-button').click()\n",
    "            except:\n",
    "                pass\n",
    "\n",
    "        # pars all cards on the page\n",
    "        cards = None\n",
    "        try:\n",
    "            cards = driver\\\n",
    "                        .find_element_by_class_name('search-page')\\\n",
    "                        .find_elements_by_class_name('title')\n",
    "        except:\n",
    "            pass\n",
    "        \n",
    "        if cards == None or len(cards) == 0:\n",
    "            time.sleep(5)\n",
    "            QUEUE.append(keyword)\n",
    "            continue\n",
    "        for card in cards:\n",
    "            name = card.text.strip()\n",
    "            appid  = card.get_attribute('href')\\\n",
    "                .replace('https://play.google.com/store/apps/details?id=','')\n",
    "\n",
    "            if appid not in KNOWN_IDS:\n",
    "                logid(name, appid)\n",
    "                # logdebug(name, appid)\n",
    "                KNOWN_IDS[appid] = name\n",
    "                QUEUE.append(name)\n",
    "        appendmsg(keyword, 'searched_appnames.txt')\n",
    "        SEARCHED_APPS.add(keyword)\n",
    "    "
   ]
  },
  {
   "cell_type": "code",
   "execution_count": 9,
   "metadata": {},
   "outputs": [],
   "source": [
    "from concurrent.futures import ThreadPoolExecutor\n",
    "NUMTHREADS = 8\n",
    "\n",
    "executor = ThreadPoolExecutor(max_workers=NUMTHREADS)\n",
    "for i in range(NUMTHREADS):\n",
    "    executor.submit(task, get_driver())\n",
    "    time.sleep(2)"
   ]
  },
  {
   "cell_type": "code",
   "execution_count": 145,
   "metadata": {
    "scrolled": true
   },
   "outputs": [
    {
     "name": "stdout",
     "output_type": "stream",
     "text": [
      "963462\n",
      "47584\n"
     ]
    }
   ],
   "source": [
    "print(len(QUEUE))\n",
    "print(len(SEARCHED_APPS))"
   ]
  },
  {
   "cell_type": "code",
   "execution_count": 10,
   "metadata": {},
   "outputs": [
    {
     "data": {
      "text/plain": [
       "['WhoIs Lookup',\n",
       " 'Thesis Tips',\n",
       " 'Ahalya Stuti',\n",
       " 'DNS changer by Blokada',\n",
       " 'Wash Machine',\n",
       " 'IPL cricket photo editor - IPL maker 2019',\n",
       " 'Cocktail Bar Recipes',\n",
       " 'Radio Hot Offline 2019',\n",
       " 'US Dollar Australian Dollar USD to AUD Converter',\n",
       " 'My Credit Cards']"
      ]
     },
     "execution_count": 10,
     "metadata": {},
     "output_type": "execute_result"
    }
   ],
   "source": [
    "QUEUE[:10]"
   ]
  },
  {
   "cell_type": "code",
   "execution_count": null,
   "metadata": {},
   "outputs": [],
   "source": []
  },
  {
   "cell_type": "code",
   "execution_count": null,
   "metadata": {},
   "outputs": [],
   "source": []
  },
  {
   "cell_type": "code",
   "execution_count": 24,
   "metadata": {},
   "outputs": [],
   "source": [
    "random.shuffle(QUEUE)"
   ]
  },
  {
   "cell_type": "code",
   "execution_count": null,
   "metadata": {},
   "outputs": [],
   "source": [
    "None.something()"
   ]
  },
  {
   "cell_type": "code",
   "execution_count": null,
   "metadata": {},
   "outputs": [],
   "source": []
  },
  {
   "cell_type": "code",
   "execution_count": null,
   "metadata": {},
   "outputs": [],
   "source": [
    "df = pd.read_csv('data.csv')\n",
    "df"
   ]
  },
  {
   "cell_type": "code",
   "execution_count": null,
   "metadata": {},
   "outputs": [],
   "source": [
    "df = df.sort_values(by=['numrating'], ascending=False)"
   ]
  },
  {
   "cell_type": "code",
   "execution_count": null,
   "metadata": {},
   "outputs": [],
   "source": [
    "df"
   ]
  },
  {
   "cell_type": "code",
   "execution_count": null,
   "metadata": {},
   "outputs": [],
   "source": [
    "appids = []\n",
    "for i in df.index:\n",
    "    pkg = df['pkgname'][i]\n",
    "    name = df['appname'][i]\n",
    "    appids.append({pkg: name})"
   ]
  },
  {
   "cell_type": "code",
   "execution_count": null,
   "metadata": {},
   "outputs": [],
   "source": [
    "appids = appids[:1000]\n",
    "print(appids)"
   ]
  },
  {
   "cell_type": "code",
   "execution_count": null,
   "metadata": {},
   "outputs": [],
   "source": [
    "for d in appids:\n",
    "    appendmsg(json.dumps(d, ensure_ascii=False), 'app_id.txt')"
   ]
  },
  {
   "cell_type": "code",
   "execution_count": null,
   "metadata": {},
   "outputs": [],
   "source": []
  }
 ],
 "metadata": {
  "kernelspec": {
   "display_name": "Python 3",
   "language": "python",
   "name": "python3"
  },
  "language_info": {
   "codemirror_mode": {
    "name": "ipython",
    "version": 3
   },
   "file_extension": ".py",
   "mimetype": "text/x-python",
   "name": "python",
   "nbconvert_exporter": "python",
   "pygments_lexer": "ipython3",
   "version": "3.7.3"
  }
 },
 "nbformat": 4,
 "nbformat_minor": 2
}
