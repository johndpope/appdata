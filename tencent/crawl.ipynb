{
 "cells": [
  {
   "cell_type": "code",
   "execution_count": 1,
   "metadata": {},
   "outputs": [],
   "source": [
    "import json\n",
    "import urllib\n",
    "import heapq\n",
    "import time\n",
    "from pprint import pprint"
   ]
  },
  {
   "cell_type": "code",
   "execution_count": 2,
   "metadata": {},
   "outputs": [],
   "source": [
    "RETRYCOUNT = 20\n",
    "QUERYTIMEOUT = 10\n",
    "WAITTIME = 0.5"
   ]
  },
  {
   "cell_type": "code",
   "execution_count": 3,
   "metadata": {},
   "outputs": [
    {
     "name": "stdout",
     "output_type": "stream",
     "text": [
      "size of known appnames: 73387\n"
     ]
    }
   ],
   "source": [
    "# known app names\n",
    "KNOWN_APPNAMES = dict()\n",
    "with open('data.jl', encoding='utf-8') as f:\n",
    "    for l in f.readlines():\n",
    "        try:\n",
    "            j = json.loads(l)\n",
    "        except:\n",
    "            pass\n",
    "        KNOWN_APPNAMES[j['appName']] = j['appDownCount']\n",
    "print('size of known appnames:', len(KNOWN_APPNAMES))"
   ]
  },
  {
   "cell_type": "code",
   "execution_count": 4,
   "metadata": {},
   "outputs": [
    {
     "name": "stdout",
     "output_type": "stream",
     "text": [
      "size of searched appnames: 54796\n"
     ]
    }
   ],
   "source": [
    "# searched appnames\n",
    "SEARCHED_APPNAMES = set()\n",
    "with open('searched_appname.txt', encoding='utf-8') as f:\n",
    "    for l in f.readlines():\n",
    "        SEARCHED_APPNAMES.add(l.strip())\n",
    "print('size of searched appnames:', len(SEARCHED_APPNAMES))"
   ]
  },
  {
   "cell_type": "code",
   "execution_count": 5,
   "metadata": {},
   "outputs": [
    {
     "name": "stdout",
     "output_type": "stream",
     "text": [
      "size of queue 18606\n"
     ]
    },
    {
     "data": {
      "text/plain": [
       "['迅捷PDF阅读器',\n",
       " '英雄的第二个记忆',\n",
       " '指尖篮球2',\n",
       " '高考物理知识宝典',\n",
       " 'Poputar',\n",
       " '游戏礼包大全',\n",
       " 'English Thai Dictionary',\n",
       " '民泰手机银行',\n",
       " '民泰村镇银行',\n",
       " '掌上万家商家版',\n",
       " '三年级数学上册全解',\n",
       " '名将(免费热血版)',\n",
       " '華誼兄弟影院',\n",
       " '好运鸽',\n",
       " '记忆符号']"
      ]
     },
     "execution_count": 5,
     "metadata": {},
     "output_type": "execute_result"
    }
   ],
   "source": [
    "# create the queue\n",
    "QUEUE = []\n",
    "\n",
    "def queue_append(name, count):\n",
    "    QUEUE.append(name)\n",
    "\n",
    "for name in KNOWN_APPNAMES:\n",
    "    if name not in SEARCHED_APPNAMES:\n",
    "        queue_append(name, KNOWN_APPNAMES[name])\n",
    "print('size of queue', len(QUEUE))\n",
    "QUEUE[:15]"
   ]
  },
  {
   "cell_type": "code",
   "execution_count": 6,
   "metadata": {},
   "outputs": [],
   "source": [
    "LOGFILENAME = 'log.txt'\n",
    "def log(msg):\n",
    "    with open(LOGFILENAME, 'ab') as f:\n",
    "        f.write(msg.encode('utf-8'))\n",
    "        f.write('\\n'.encode('utf-8'))"
   ]
  },
  {
   "cell_type": "code",
   "execution_count": 7,
   "metadata": {},
   "outputs": [],
   "source": [
    "def add_item(name, item):\n",
    "    if name in KNOWN_APPNAMES: \n",
    "        #log(f'skipping [{name}] because item already crawled')\n",
    "        return False\n",
    "    \n",
    "    KNOWN_APPNAMES[name] = item['appDownCount']\n",
    "    queue_append(name, item['appDownCount'])\n",
    "\n",
    "    with open('data.jl', 'ab') as f:\n",
    "        f.write(json.dumps(item, ensure_ascii=False).encode(\"UTF-8\"))\n",
    "        f.write('\\n'.encode(\"UTF-8\"))\n",
    "    #log(f'appended item [{name}]')\n",
    "    \n",
    "    return True"
   ]
  },
  {
   "cell_type": "code",
   "execution_count": 8,
   "metadata": {
    "scrolled": true
   },
   "outputs": [],
   "source": [
    "BASEURL = 'https://android.myapp.com/myapp/searchAjax.htm?kw={}&pns={}&sid='\n",
    "\n",
    "def query(keyword, pns):\n",
    "    kw = urllib.parse.quote(keyword)\n",
    "    url = BASEURL.format(kw,pns)\n",
    "    resp = ''\n",
    "    for i in range(RETRYCOUNT):\n",
    "        log(f'query {i}th [{keyword}] [{pns}] ')\n",
    "        try:\n",
    "            resp = urllib.request.urlopen(url, timeout=QUERYTIMEOUT).read().decode('utf-8')\n",
    "        except KeyboardInterrupt:\n",
    "            raise\n",
    "        except:\n",
    "            pass\n",
    "        \n",
    "        if len(resp) > 300: \n",
    "            return resp\n",
    "        time.sleep(WAITTIME)\n",
    "        \n",
    "    return None\n",
    "\n",
    "def crawl_search_keyword():\n",
    "    \n",
    "    keyword = QUEUE.pop(0)\n",
    "\n",
    "    pns = ''\n",
    "    found_count = 0\n",
    "    while True:\n",
    "        resp = query(keyword, pns)\n",
    "        if resp == None:\n",
    "            break\n",
    "        resp = json.loads(resp)['obj']\n",
    "        \n",
    "        for item in resp['items']:\n",
    "            # append item to datafiles\n",
    "            # add to queue if doesnt already exist\n",
    "            # return true if new item\n",
    "            if add_item(item['appDetail']['appName'], item['appDetail']):\n",
    "                found_count += 1\n",
    "        \n",
    "        if resp['hasNext'] == 0:\n",
    "            break  # there's no next page\n",
    "        pns = resp['pageNumberStack']\n",
    "        \n",
    "    log(f'keyword [{keyword}] added [{found_count}] new items')\n",
    "    with open('searched_appname.txt', 'ab') as f:\n",
    "        f.write(keyword.encode('utf-8'))\n",
    "        f.write('\\n'.encode('utf-8'))\n",
    "        \n",
    "    if len(QUEUE) != 0:\n",
    "        crawl_search_keyword()"
   ]
  },
  {
   "cell_type": "code",
   "execution_count": 9,
   "metadata": {
    "scrolled": true
   },
   "outputs": [],
   "source": [
    "from concurrent.futures import ThreadPoolExecutor\n",
    "NUMTHREADS = 200\n",
    "\n",
    "executor = ThreadPoolExecutor(max_workers=NUMTHREADS)\n",
    "for i in range(NUMTHREADS):\n",
    "    executor.submit(crawl_search_keyword)"
   ]
  },
  {
   "cell_type": "code",
   "execution_count": 650,
   "metadata": {},
   "outputs": [
    {
     "name": "stdout",
     "output_type": "stream",
     "text": [
      "76838\n",
      "0\n"
     ]
    },
    {
     "data": {
      "text/plain": [
       "[]"
      ]
     },
     "execution_count": 650,
     "metadata": {},
     "output_type": "execute_result"
    }
   ],
   "source": [
    "print(len(KNOWN_APPNAMES))\n",
    "print(len(QUEUE))\n",
    "QUEUE[:15]"
   ]
  }
 ],
 "metadata": {
  "kernelspec": {
   "display_name": "Python 3",
   "language": "python",
   "name": "python3"
  },
  "language_info": {
   "codemirror_mode": {
    "name": "ipython",
    "version": 3
   },
   "file_extension": ".py",
   "mimetype": "text/x-python",
   "name": "python",
   "nbconvert_exporter": "python",
   "pygments_lexer": "ipython3",
   "version": "3.7.1"
  }
 },
 "nbformat": 4,
 "nbformat_minor": 2
}
