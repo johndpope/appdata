{
 "cells": [
  {
   "cell_type": "code",
   "execution_count": 1,
   "metadata": {},
   "outputs": [],
   "source": [
    "from selenium import webdriver\n",
    "from selenium.webdriver.support.ui import WebDriverWait\n",
    "from selenium.webdriver.chrome.options import Options\n",
    "from selenium.common.exceptions import TimeoutException\n",
    "from selenium.webdriver.common.desired_capabilities import DesiredCapabilities\n",
    "\n",
    "import time\n",
    "import json\n",
    "from pprint import pprint\n",
    "from concurrent.futures import ThreadPoolExecutor, TimeoutError\n",
    "import pandas as pd\n",
    "import urllib.request"
   ]
  },
  {
   "cell_type": "code",
   "execution_count": 2,
   "metadata": {},
   "outputs": [],
   "source": [
    "from selenium.webdriver.chrome.options import Options\n",
    "chrome_options = Options()\n",
    "chrome_options.add_argument(\"--disable-extensions\")\n",
    "# we dont need to load images\n",
    "chrome_prefs = {\n",
    "      'profile.managed_default_content_settings.images': 2,\n",
    "    }\n",
    "chrome_options.add_argument('user-agent=\"Mozilla/5.0 (Linux; Android 6.0; Nexus 5 Build/MRA58N) AppleWebKit/537.36 (KHTML, like Gecko) Chrome/74.0.3729.108 Mobile Safari/537.36\"')\n",
    "chrome_options.add_experimental_option('prefs', chrome_prefs)\n",
    "def get_driver():\n",
    "    return webdriver.Chrome(options=chrome_options)"
   ]
  },
  {
   "cell_type": "code",
   "execution_count": 3,
   "metadata": {},
   "outputs": [],
   "source": [
    "# driver = get_driver()"
   ]
  },
  {
   "cell_type": "code",
   "execution_count": 4,
   "metadata": {},
   "outputs": [
    {
     "name": "stdout",
     "output_type": "stream",
     "text": [
      "1000000\n"
     ]
    }
   ],
   "source": [
    "# first read known app ids and names\n",
    "IDTONAME = {}\n",
    "with open('app_id.txt', encoding='utf-8') as f:\n",
    "    for l in f.readlines():\n",
    "        j = json.loads(l)\n",
    "        for appid in j:\n",
    "            IDTONAME[appid] = j[appid]\n",
    "print(len(IDTONAME))"
   ]
  },
  {
   "cell_type": "code",
   "execution_count": 5,
   "metadata": {},
   "outputs": [
    {
     "name": "stdout",
     "output_type": "stream",
     "text": [
      "622379\n"
     ]
    }
   ],
   "source": [
    "CRAWLED = set()\n",
    "with open('data.jl', encoding='utf-8') as f:\n",
    "    for l in f.readlines():\n",
    "        try:\n",
    "            j = json.loads(l)\n",
    "            CRAWLED.add(j['pkg'])\n",
    "        except:\n",
    "            pass\n",
    "print(len(CRAWLED))\n",
    "# CRAWLED"
   ]
  },
  {
   "cell_type": "code",
   "execution_count": 6,
   "metadata": {
    "scrolled": true
   },
   "outputs": [
    {
     "data": {
      "text/plain": [
       "0"
      ]
     },
     "execution_count": 6,
     "metadata": {},
     "output_type": "execute_result"
    }
   ],
   "source": [
    "INVALID = set()\n",
    "with open('invalid.txt', encoding='utf-8') as f:\n",
    "    for l in f.readlines():\n",
    "        INVALID.add(l.strip())\n",
    "len(INVALID)"
   ]
  },
  {
   "cell_type": "code",
   "execution_count": 7,
   "metadata": {},
   "outputs": [],
   "source": [
    "def appendmsg(msg, filename):\n",
    "    with open(filename, 'ab') as f:\n",
    "        f.write(msg.encode('utf-8'))\n",
    "        f.write('\\n'.encode('utf-8'))\n",
    "\n",
    "BUFSIZ = 1\n",
    "BUFFER = []\n",
    "def log(d):\n",
    "    BUFFER.append(d)\n",
    "    if len(BUFFER) > BUFSIZ:\n",
    "        for i in range(BUFSIZ):\n",
    "            d = BUFFER.pop(0)\n",
    "            appendmsg(json.dumps(d, ensure_ascii=False), 'data.jl')"
   ]
  },
  {
   "cell_type": "code",
   "execution_count": 8,
   "metadata": {
    "scrolled": true
   },
   "outputs": [],
   "source": [
    "BASEURL = 'https://play.google.com/store/apps/details?id={}'\n",
    "\n",
    "def get_app_detail(driver, appid):\n",
    "    try:\n",
    "        driver.get(BASEURL.format(appid))\n",
    "        ret = {\n",
    "            'name': 'unknown',\n",
    "            'pkg': appid,\n",
    "            'publisher': '',\n",
    "            'genres': [],\n",
    "            'content_ratings': [],\n",
    "            'is_editor_choice': False,\n",
    "            'price': 0.0,\n",
    "            'inapp_details': [],\n",
    "            'has_video': False,\n",
    "            'num_screenshot': 0,\n",
    "            'description': '',\n",
    "            'rating_overall': 0.0,\n",
    "            'rating_5': 0,\n",
    "            'rating_4': 0,\n",
    "            'rating_3': 0,\n",
    "            'rating_2': 0,\n",
    "            'rating_1': 0,\n",
    "            'rating_count': 0,\n",
    "            'additional_info': {}\n",
    "        }\n",
    "\n",
    "        #name\n",
    "        ret['name'] = driver.find_element_by_class_name('AHFaub').text\n",
    "\n",
    "        #publisher and genres\n",
    "        l = driver.find_elements_by_css_selector('span.T32cc.UAO9ie')\n",
    "        ret['publisher'] = l[0].text\n",
    "        for i in range(1, len(l)):\n",
    "            ret['genres'].append(l[i].text)\n",
    "\n",
    "        #content rating(s)\n",
    "        l = driver.find_elements_by_class_name('KmO8jd')\n",
    "        for i in l:\n",
    "            ret['content_ratings'].append(i.text)\n",
    "\n",
    "        #iseditorchoice\n",
    "        l = driver.find_elements_by_class_name('GcFlrd')\n",
    "        if len(l) != 0:\n",
    "            ret['is_editor_choice'] = True\n",
    "\n",
    "        #price HoUVMe VdvQIe\n",
    "        b = driver.find_element_by_css_selector('div.HoUVMe.VdvQIe')\n",
    "        if b.text != 'Install':\n",
    "            price_text = b.text.replace('$','').replace(' Buy','').strip()\n",
    "            ret['price'] = float(price_text)\n",
    "\n",
    "        #inapp details\n",
    "        l = driver.find_elements_by_class_name('bSIuKf')\n",
    "        for i in l:\n",
    "            ret['inapp_details'].append(i.text)\n",
    "\n",
    "        #has video\n",
    "        l = driver.find_elements_by_class_name('TdqJUe')\n",
    "        if len(l) != 0:\n",
    "            ret['has_video'] = True\n",
    "\n",
    "        #num screenshot\n",
    "        l = driver.find_elements_by_class_name('Q4vdJd')\n",
    "        ret['num_screenshot'] = len(l)\n",
    "\n",
    "        #description\n",
    "        ret['description'] = driver.find_element_by_class_name('DWPxHb').text\n",
    "\n",
    "        #rating stuff\n",
    "        ret['rating_overall'] = float(driver.find_element_by_class_name('BHMmbe').text)\n",
    "        l = driver.find_elements_by_class_name('mMF0fd')\n",
    "\n",
    "        for i in l:\n",
    "            rating_score = int(i.text)\n",
    "            rating_count = i.find_elements_by_tag_name('span')[1].get_attribute('title')\n",
    "            rating_count = int(rating_count.replace(',',''))\n",
    "            ret[f'rating_{rating_score}'] = rating_count\n",
    "\n",
    "        rating_count = driver.find_element_by_class_name('EymY4b').text\n",
    "        rating_count = rating_count.replace('total','').replace(',','')\n",
    "        ret['rating_count'] = int(rating_count)\n",
    "\n",
    "        #additional info cards\n",
    "        l = driver.find_elements_by_class_name('hAyfc')\n",
    "        for i in l:\n",
    "            key = i.find_element_by_class_name('BgcNfc').text\n",
    "            value = i.find_element_by_class_name('htlgb').text\n",
    "            ret['additional_info'][key] = value\n",
    "\n",
    "        return ret\n",
    "    \n",
    "    except KeyboardInterrupt:\n",
    "        raise\n",
    "    except:\n",
    "        return None"
   ]
  },
  {
   "cell_type": "code",
   "execution_count": 9,
   "metadata": {},
   "outputs": [],
   "source": [
    "# get_app_detail(driver, 'com.mojang.minecraftpe')"
   ]
  },
  {
   "cell_type": "code",
   "execution_count": 10,
   "metadata": {},
   "outputs": [],
   "source": [
    "# get_app_detail(driver, 'com.instagram.android')"
   ]
  },
  {
   "cell_type": "code",
   "execution_count": 11,
   "metadata": {},
   "outputs": [],
   "source": [
    "# driver.close()"
   ]
  },
  {
   "cell_type": "code",
   "execution_count": 12,
   "metadata": {},
   "outputs": [
    {
     "name": "stdout",
     "output_type": "stream",
     "text": [
      "377621\n"
     ]
    },
    {
     "data": {
      "text/plain": [
       "['com.dianxinos.dxbs',\n",
       " 'com.dianxinos.optimizer.duplay',\n",
       " 'com.lionmobi.powerclean',\n",
       " 'com.calfordcn.gu',\n",
       " 'com.squareenixmontreal.hitmansniperandroid',\n",
       " 'com.speed.brawl.rider.magic.kingdom.sticker',\n",
       " 'com.cuddy.app.WAStickerApps',\n",
       " 'com.kpop.magic.kingdom.complete.sticker',\n",
       " 'com.asphalt.brawl.magic.kingdom.sticker',\n",
       " 'com.ramadan.daily.magic.kingdom.sticker',\n",
       " 'com.straight147.cleanerWhatsapp',\n",
       " 'com.dog.magic.kingdom.sticker',\n",
       " 'com.haunted.halloween.magic.kingdom.sticker',\n",
       " 'com.ramadan.magic.kingdom.sticker',\n",
       " 'com.lightmobile.voicetotext',\n",
       " 'com.alpha.whatslogout',\n",
       " 'com.mzbm.statusdownload',\n",
       " 'com.superozity.bestcleanerforwhatsapp',\n",
       " 'com.shimo.stikrz',\n",
       " 'com.drilens.wamr']"
      ]
     },
     "execution_count": 12,
     "metadata": {},
     "output_type": "execute_result"
    }
   ],
   "source": [
    "QUEUE = []\n",
    "for appid in IDTONAME:\n",
    "    if appid in CRAWLED: continue\n",
    "    if appid in INVALID: continue\n",
    "    QUEUE.append(appid)\n",
    "    \n",
    "#     time.sleep(.5)\n",
    "print(len(QUEUE))\n",
    "QUEUE[:20]"
   ]
  },
  {
   "cell_type": "code",
   "execution_count": 13,
   "metadata": {},
   "outputs": [],
   "source": [
    "def task(d):\n",
    "    while True:\n",
    "        appid = QUEUE.pop(0)\n",
    "        data = get_app_detail(d, appid)\n",
    "        \n",
    "        if data == None:\n",
    "            INVALID.add(appid)\n",
    "            appendmsg(appid, 'invalid.txt')\n",
    "            continue\n",
    "            \n",
    "        log(data)\n",
    "        CRAWLED.add(appid)"
   ]
  },
  {
   "cell_type": "code",
   "execution_count": 14,
   "metadata": {},
   "outputs": [],
   "source": [
    "NUMTHREADS = 20\n",
    "executor = ThreadPoolExecutor(max_workers=NUMTHREADS)\n",
    "for i in range(NUMTHREADS):\n",
    "    executor.submit(task, get_driver())\n",
    "    time.sleep(1)"
   ]
  },
  {
   "cell_type": "code",
   "execution_count": 171,
   "metadata": {
    "scrolled": true
   },
   "outputs": [
    {
     "name": "stdout",
     "output_type": "stream",
     "text": [
      "375255\n"
     ]
    },
    {
     "data": {
      "text/plain": [
       "['com.nama.justonetap',\n",
       " 'slides.rollball.unlockball',\n",
       " 'com.fallow.line.v',\n",
       " 'com.kapps.rolltheball',\n",
       " 'com.gamefrog.boatrunneroceanwavedancingline',\n",
       " 'com.rolltheball.to.tom',\n",
       " 'com.gss.rollball.rollingball.unrollball.unblocklegend.rollingtheball.unblockme.unrollme.rolling.balling',\n",
       " 'com.ocfirst.Danmagic.Ball',\n",
       " 'com.SK.UnblockGame',\n",
       " 'com.MBYapim.RallTheBall']"
      ]
     },
     "execution_count": 171,
     "metadata": {},
     "output_type": "execute_result"
    }
   ],
   "source": [
    "print(len(QUEUE))\n",
    "QUEUE[:10]"
   ]
  },
  {
   "cell_type": "code",
   "execution_count": null,
   "metadata": {},
   "outputs": [],
   "source": []
  },
  {
   "cell_type": "code",
   "execution_count": null,
   "metadata": {},
   "outputs": [],
   "source": []
  }
 ],
 "metadata": {
  "kernelspec": {
   "display_name": "Python 3",
   "language": "python",
   "name": "python3"
  },
  "language_info": {
   "codemirror_mode": {
    "name": "ipython",
    "version": 3
   },
   "file_extension": ".py",
   "mimetype": "text/x-python",
   "name": "python",
   "nbconvert_exporter": "python",
   "pygments_lexer": "ipython3",
   "version": "3.7.3"
  }
 },
 "nbformat": 4,
 "nbformat_minor": 2
}
